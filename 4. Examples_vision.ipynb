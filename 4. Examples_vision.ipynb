{
  "nbformat": 4,
  "nbformat_minor": 0,
  "metadata": {
    "colab": {
      "name": "Examples vision.ipynb",
      "provenance": [],
      "collapsed_sections": [],
      "toc_visible": true
    },
    "kernelspec": {
      "name": "python3",
      "display_name": "Python 3"
    },
    "language_info": {
      "name": "python"
    },
    "accelerator": "GPU"
  },
  "cells": [
    {
      "cell_type": "markdown",
      "metadata": {
        "id": "Fgj6VXnRVmtF"
      },
      "source": [
        "# Импортирање на потребните библиотеки"
      ]
    },
    {
      "cell_type": "code",
      "metadata": {
        "id": "RT-6uC42Qf0m"
      },
      "source": [
        "from tensorflow.keras.datasets import mnist\n",
        "from tensorflow.keras.utils import to_categorical\n",
        "from tensorflow.image import resize, grayscale_to_rgb\n",
        "from tensorflow.keras.applications import VGG16\n",
        "from tensorflow.keras.optimizers import Adam\n",
        "from tensorflow.keras.losses import categorical_crossentropy\n",
        "from tensorflow.keras.models import Model\n",
        "from tensorflow.keras.layers import Flatten, Dense, Dropout\n",
        "import matplotlib.pyplot as plt\n",
        "import numpy as np"
      ],
      "execution_count": null,
      "outputs": []
    },
    {
      "cell_type": "markdown",
      "metadata": {
        "id": "ZErlr3poXlue"
      },
      "source": [
        "# Вчитување податоци"
      ]
    },
    {
      "cell_type": "code",
      "metadata": {
        "id": "-F0KdNOSXh_n",
        "colab": {
          "base_uri": "https://localhost:8080/"
        },
        "outputId": "4668b26d-140b-4eec-d125-c75a018aa8d2"
      },
      "source": [
        "# го вчитуваме податочното множество MNIST кое е составено од слики\n",
        "# на цифри (0-9), цифрите претставуваат класи\n",
        "(train_x, train_y), (test_x, test_y) = mnist.load_data()\n",
        "\n",
        "# за побрзо извршување на показните примери, користиме само дел\n",
        "# од податочното множество\n",
        "train_x, train_y = train_x[:2000], train_y[:2000]\n",
        "test_x, test_y = test_x[:1000], test_y[:1000]"
      ],
      "execution_count": null,
      "outputs": [
        {
          "output_type": "stream",
          "name": "stdout",
          "text": [
            "Downloading data from https://storage.googleapis.com/tensorflow/tf-keras-datasets/mnist.npz\n",
            "11493376/11490434 [==============================] - 0s 0us/step\n",
            "11501568/11490434 [==============================] - 0s 0us/step\n"
          ]
        }
      ]
    },
    {
      "cell_type": "code",
      "metadata": {
        "colab": {
          "base_uri": "https://localhost:8080/",
          "height": 191
        },
        "id": "I-2z8cQCXzin",
        "outputId": "f575e081-1fcd-48d8-d1ab-11c1b4f9ddba"
      },
      "source": [
        "# приказ на дел од сликите во податочното множество\n",
        "for i in range(6):\n",
        "    plt.subplot(330 + 1 + i)\n",
        "    plt.imshow(train_x[i], cmap=plt.get_cmap('gray'))\n",
        "plt.show()"
      ],
      "execution_count": null,
      "outputs": [
        {
          "output_type": "display_data",
          "data": {
            "image/png": "[encoded data removed]",
            "text/plain": [
              "<Figure size 432x288 with 6 Axes>"
            ]
          },
          "metadata": {
            "needs_background": "light"
          }
        }
      ]
    },
    {
      "cell_type": "markdown",
      "metadata": {
        "id": "y4z5NaiWHznu"
      },
      "source": [
        "# Претпроцесирање на податоци"
      ]
    },
    {
      "cell_type": "code",
      "metadata": {
        "id": "SjAGGrmlmRMN"
      },
      "source": [
        "# трансформација на вредностите за пикселите на сликите во реални броеви\n",
        "train_x = train_x.astype('float32') / 255\n",
        "test_x = test_x.astype('float32') / 255\n",
        "\n",
        "# додавање една дополнителна димензија на секоја слика\n",
        "# за конзистентност со моделите\n",
        "train_x = np.expand_dims(train_x, -1)\n",
        "test_x = np.expand_dims(test_x, -1)\n",
        "\n",
        "# промена на димензија на сликите (сите слики треба да имаат димензија 32x32)\n",
        "train_x = resize(train_x, (32, 32))\n",
        "test_x = resize(test_x, (32, 32))\n",
        "\n",
        "# трансформација на сликите од црно-бели во боја\n",
        "train_x = grayscale_to_rgb(train_x)\n",
        "test_x = grayscale_to_rgb(test_x)"
      ],
      "execution_count": null,
      "outputs": []
    },
    {
      "cell_type": "code",
      "metadata": {
        "id": "ow4naARTh4u8"
      },
      "source": [
        "# трансформација на класите во one-hot вектори\n",
        "train_y = to_categorical(train_y)\n",
        "test_y = to_categorical(test_y)"
      ],
      "execution_count": null,
      "outputs": []
    },
    {
      "cell_type": "markdown",
      "metadata": {
        "id": "23JtVYiEi1Hz"
      },
      "source": [
        "# VGG16"
      ]
    },
    {
      "cell_type": "code",
      "metadata": {
        "id": "lIuVaG_di04Q"
      },
      "source": [
        "# за класификација со моделот VGG16 потребно е да се креира објект\n",
        "# кој ќе го претставува моделот, со следните аргументи\n",
        "# include_top - дали да се вклучат целосно поврзаните слоеви\n",
        "# weights - тежини со кои да се иницијализираат слоевите\n",
        "# input_shape - димензија на влезните податоци\n",
        "# classes - број на класи\n",
        "vgg16 = VGG16(include_top=True, weights=None, input_shape=(32, 32, 3), classes=10)\n",
        "\n",
        "# пред да се тренира, потребно е моделот да се компајлира\n",
        "# со поставување на аргументот loss дефинираме категориска крос-ентропија\n",
        "# како функција на загуба\n",
        "# со поставување на аргументот optimizer дефинираме Adam оптимизатор со рата\n",
        "# на учење еднаква на 0.01\n",
        "# со поставување на аргументот metrics дефинираме точност како метрика за \n",
        "# следење на перформансите на моделот при тренирање\n",
        "vgg16.compile(optimizer=Adam(learning_rate=0.01), loss=categorical_crossentropy, metrics=['accuracy'])"
      ],
      "execution_count": null,
      "outputs": []
    },
    {
      "cell_type": "code",
      "metadata": {
        "colab": {
          "base_uri": "https://localhost:8080/"
        },
        "id": "bDH5lNVWlxyT",
        "outputId": "cf30d17b-f7d9-4827-b15a-f571f9a552d4"
      },
      "source": [
        "# при тренирање на моделот покрај влезните и излезните податоци, потребно е \n",
        "# да се постават вредности за аргументите epochs што претставува број на \n",
        "# епохи, batch_size што претставува големина на серија, validation_split што\n",
        "# претставува колкав процент од податоците да се користат за валицација и\n",
        "# опционално verbose со што се дефинира интензитет на информации за \n",
        "# процесот на тренирање\n",
        "vgg16.fit(train_x, train_y, epochs=3, batch_size=1024, validation_split=0.2, verbose=2)"
      ],
      "execution_count": null,
      "outputs": [
        {
          "output_type": "stream",
          "name": "stdout",
          "text": [
            "Epoch 1/3\n",
            "2/2 - 61s - loss: 21.9629 - accuracy: 0.0919 - val_loss: 3.7001 - val_accuracy: 0.1050\n",
            "Epoch 2/3\n",
            "2/2 - 1s - loss: 3.3998 - accuracy: 0.1013 - val_loss: 2.3471 - val_accuracy: 0.0975\n",
            "Epoch 3/3\n",
            "2/2 - 1s - loss: 2.3599 - accuracy: 0.1025 - val_loss: 2.2997 - val_accuracy: 0.1150\n"
          ]
        },
        {
          "output_type": "execute_result",
          "data": {
            "text/plain": [
              "<keras.callbacks.History at 0x7f46602c6490>"
            ]
          },
          "metadata": {},
          "execution_count": 7
        }
      ]
    },
    {
      "cell_type": "code",
      "metadata": {
        "id": "oA8C1N4wmCr9",
        "colab": {
          "base_uri": "https://localhost:8080/"
        },
        "outputId": "ef4ea72c-872b-441d-bdc1-6dcc82e16625"
      },
      "source": [
        "# евалуација на моделот со што се добиваат вредности за\n",
        "# функцијата на загуба и точноста\n",
        "vgg16.evaluate(test_x, test_y)"
      ],
      "execution_count": null,
      "outputs": [
        {
          "output_type": "stream",
          "name": "stdout",
          "text": [
            "32/32 [==============================] - 1s 30ms/step - loss: 2.2994 - accuracy: 0.0940\n"
          ]
        },
        {
          "output_type": "execute_result",
          "data": {
            "text/plain": [
              "[2.299438953399658, 0.09399999678134918]"
            ]
          },
          "metadata": {},
          "execution_count": 8
        }
      ]
    },
    {
      "cell_type": "markdown",
      "metadata": {
        "id": "2KWmYl_Gi3Et"
      },
      "source": [
        "# Трансфер на знаење"
      ]
    },
    {
      "cell_type": "code",
      "metadata": {
        "id": "Gmm5M81b4ElW",
        "colab": {
          "base_uri": "https://localhost:8080/"
        },
        "outputId": "dc802d3e-1c8b-462b-ba22-9b9c20bcc460"
      },
      "source": [
        "# за класификација со трансфер на знаење со моделот VGG16 потребно е да \n",
        "# се креира објект кој ќе го претставува моделот, со следните аргументи\n",
        "# include_top - дали да се вклучат целосно поврзаните слоеви\n",
        "# weights - тежини со кои да се иницијализираат слоевите\n",
        "# input_shape - димензија на влезните податоци\n",
        "base_model = VGG16(include_top=False, weights='imagenet', input_shape=(32, 32, 3))\n",
        "\n",
        "# поставување на параметар кој означува дека слоевите од\n",
        "# моделот VGG16 нема да се тренираат\n",
        "base_model.trainable = False\n",
        "\n",
        "# по излезниот слој од моделот VGG16 се додаваат слоеви\n",
        "# според потребите на проблемот кој се разгледува\n",
        "layer = base_model.output\n",
        "layer = Flatten()(layer)\n",
        "layer = Dense(256)(layer)\n",
        "layer = Dropout(0.5)(layer)\n",
        "\n",
        "# излезен слој за класата\n",
        "output = Dense(10, activation='softmax')(layer)\n",
        "\n",
        "# креирање објект кој ќе го претставува моделот со соодветните \n",
        "# влезни и излезни слоеви\n",
        "model = Model(inputs=base_model.input, outputs=output)\n",
        "\n",
        "# пред да се тренира, потребно е моделот да се компајлира\n",
        "# со поставување на аргументот loss дефинираме категориска крос-ентропија\n",
        "# како функција на загуба\n",
        "# со поставување на аргументот optimizer дефинираме Adam оптимизатор со рата\n",
        "# на учење еднаква на 0.01\n",
        "# со поставување на аргументот metrics дефинираме точност како метрика за \n",
        "# следење на перформансите на моделот при тренирање\n",
        "model.compile(optimizer=Adam(learning_rate=0.01), loss=categorical_crossentropy, metrics=['accuracy'])"
      ],
      "execution_count": null,
      "outputs": [
        {
          "output_type": "stream",
          "name": "stdout",
          "text": [
            "Downloading data from https://storage.googleapis.com/tensorflow/keras-applications/vgg16/vgg16_weights_tf_dim_ordering_tf_kernels_notop.h5\n",
            "58892288/58889256 [==============================] - 1s 0us/step\n",
            "58900480/58889256 [==============================] - 1s 0us/step\n"
          ]
        }
      ]
    },
    {
      "cell_type": "code",
      "metadata": {
        "colab": {
          "base_uri": "https://localhost:8080/"
        },
        "id": "fzeE2pUu5_AE",
        "outputId": "1764495f-4058-47cd-d2c0-a7c0e2a535de"
      },
      "source": [
        "# при тренирање на моделот покрај влезните и излезните податоци, потребно е \n",
        "# да се постават вредности за аргументите epochs што претставува број на \n",
        "# епохи, batch_size што претставува големина на серија, validation_split што\n",
        "# претставува колкав процент од податоците да се користат за валицација и\n",
        "# опционално verbose со што се дефинира интензитет на информации за \n",
        "# процесот на тренирање\n",
        "model.fit(train_x, train_y, epochs=3, batch_size=1024, validation_split=0.2, verbose=2)"
      ],
      "execution_count": null,
      "outputs": [
        {
          "output_type": "stream",
          "name": "stdout",
          "text": [
            "Epoch 1/3\n",
            "2/2 - 2s - loss: 7.0592 - accuracy: 0.1331 - val_loss: 9.2747 - val_accuracy: 0.1025\n",
            "Epoch 2/3\n",
            "2/2 - 0s - loss: 8.6932 - accuracy: 0.1119 - val_loss: 6.1144 - val_accuracy: 0.0775\n",
            "Epoch 3/3\n",
            "2/2 - 0s - loss: 5.9867 - accuracy: 0.0938 - val_loss: 7.1894 - val_accuracy: 0.0475\n"
          ]
        },
        {
          "output_type": "execute_result",
          "data": {
            "text/plain": [
              "<keras.callbacks.History at 0x7f4575c85650>"
            ]
          },
          "metadata": {},
          "execution_count": 10
        }
      ]
    },
    {
      "cell_type": "code",
      "metadata": {
        "colab": {
          "base_uri": "https://localhost:8080/"
        },
        "id": "Z7_JBLGI6Cqs",
        "outputId": "33433fc7-c077-40c1-a71b-1131538c69dd"
      },
      "source": [
        "# евалуација на моделот со што се добиваат вредности за\n",
        "# функцијата на загуба и точноста\n",
        "model.evaluate(test_x, test_y)"
      ],
      "execution_count": null,
      "outputs": [
        {
          "output_type": "stream",
          "name": "stdout",
          "text": [
            "32/32 [==============================] - 1s 18ms/step - loss: 7.4283 - accuracy: 0.0430\n"
          ]
        },
        {
          "output_type": "execute_result",
          "data": {
            "text/plain": [
              "[7.428266525268555, 0.0430000014603138]"
            ]
          },
          "metadata": {},
          "execution_count": 11
        }
      ]
    }
  ]
}