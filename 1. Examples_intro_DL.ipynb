{
  "nbformat": 4,
  "nbformat_minor": 0,
  "metadata": {
    "colab": {
      "name": "Examples intro DL.ipynb",
      "provenance": [],
      "collapsed_sections": [],
      "toc_visible": true
    },
    "kernelspec": {
      "name": "python3",
      "display_name": "Python 3"
    },
    "language_info": {
      "name": "python"
    }
  },
  "cells": [
    {
      "cell_type": "markdown",
      "metadata": {
        "id": "WxEIw2OD3HAG"
      },
      "source": [
        "# Импортирање на потребните библиотеки"
      ]
    },
    {
      "cell_type": "code",
      "metadata": {
        "id": "ITfF9l1Jdqlm"
      },
      "source": [
        "from keras.layers import Dense\n",
        "from keras.layers import Input\n",
        "from keras.models import Sequential, Model\n",
        "from sklearn.datasets import load_iris\n",
        "from sklearn.preprocessing import LabelBinarizer\n",
        "from tensorflow.distribute import MirroredStrategy, MultiWorkerMirroredStrategy"
      ],
      "execution_count": null,
      "outputs": []
    },
    {
      "cell_type": "markdown",
      "metadata": {
        "id": "Mit96gL08OEY"
      },
      "source": [
        "# Тренирање и евалуација на модели"
      ]
    },
    {
      "cell_type": "markdown",
      "metadata": {
        "id": "3FukDiYmudqR"
      },
      "source": [
        "## Вчитување податоци"
      ]
    },
    {
      "cell_type": "code",
      "metadata": {
        "id": "GhRUOK-YqEHy"
      },
      "source": [
        "# го вчитуваме податочното множество Iris кое е составено од информации за\n",
        "# карактеристики за цвеќиња заедно со нивниот тип кој претставува класа\n",
        "# со поставување на атрибутот return_X_y на вредност True го вчитуваме\n",
        "# множеството во 2 низи (1 за карактеристиките и 1 за класите)\n",
        "features, labels = load_iris(return_X_y=True)\n",
        "\n",
        "# за класификација потребно е класите да ги претставиме како one-hot вектори\n",
        "# за таа цел инстанцираме LabelBinarizer објект\n",
        "label_binarizer = LabelBinarizer()\n",
        "label_binarizer.fit_transform([0, 1, 2])\n",
        "\n",
        "# ги трансформираме класите во one-hot вектори\n",
        "labels = label_binarizer.transform(labels)\n",
        "\n",
        "# го делиме множеството на подмножества за тренирање и тестирање\n",
        "# 80% од множеството за тренирање и 20% од множеството за тестирање\n",
        "train_x, train_y = features[:int(0.8 * len(features))], labels[:int(0.8 * len(labels))]\n",
        "test_x, test_y = features[int(0.8 * len(features)):], labels[int(0.8 * len(labels)):]"
      ],
      "execution_count": null,
      "outputs": []
    },
    {
      "cell_type": "markdown",
      "metadata": {
        "id": "ik8cCQo38YCq"
      },
      "source": [
        "## Креирање Sequential модел"
      ]
    },
    {
      "cell_type": "code",
      "metadata": {
        "id": "veGnStSa8eyv"
      },
      "source": [
        "# за почеток се инстанцира објект кој ќе го претставува моделот\n",
        "model1 = Sequential() \n",
        "\n",
        "# потоа може да се додаваат неограничен број слоеви во зависност од потребите\n",
        "# за конкретниот проблем кој се разгледува\n",
        "\n",
        "# во продолжение додаваме 3 целосно поврзани слоеви со 64, 128 и 512 \n",
        "# неврони соодветно, и активациска функција ReLu\n",
        "# кај првиот слој потребно е да се дефинира атрибутот input_shape кој ја \n",
        "# претставува димензијата на влезните податоци\n",
        "# (4, ) означува дека моделот ќе добива 4-димензионални вектори на влез\n",
        "model1.add(Dense(64, activation='relu', name='l1', input_shape=(4,)))\n",
        "model1.add(Dense(128, activation='relu', name='l2')) \n",
        "model1.add(Dense(512, activation='relu')) \n",
        "\n",
        "# последниот слој претставува излезен слој кој има 3 неврони и активациска\n",
        "# функција softmax што означува дека моделот ќе предвидува реални броеви кои\n",
        "# може да се интерпретираат како веројатности за припадност во класа\n",
        "model1.add(Dense(3, activation='softmax'))"
      ],
      "execution_count": null,
      "outputs": []
    },
    {
      "cell_type": "markdown",
      "metadata": {
        "id": "N1_Rwq7M805G"
      },
      "source": [
        "## Креирање Model модел"
      ]
    },
    {
      "cell_type": "code",
      "metadata": {
        "id": "iNHUhAuQ8_5G"
      },
      "source": [
        "# за креирање модел преку функционалното API потребно е да се дефинира \n",
        "# влезен слој со димензија која е соодветна на димензијата на влезните податоци\n",
        "a = Input(shape=(4,)) \n",
        "\n",
        "# потоа може да се додаваат неограничен број слоеви во зависност од потребите\n",
        "# за конкретниот проблем кој се разгледува\n",
        "\n",
        "# во продолжение додаваме 3 целосно поврзани слоеви со 64, 128 и 256 \n",
        "# неврони соодветно, и активациска функција ReLu\n",
        "x = Dense(64, activation='relu', name='l1')(a) \n",
        "x = Dense(128, activation='relu', name='l2')(x) \n",
        "x = Dense(256, activation='relu')(x) \n",
        "\n",
        "# последниот слој претставува излезен слој кој има 3 неврони и активациска\n",
        "# функција softmax што означува дека моделот ќе предвидува реални броеви кои\n",
        "# може да се интерпретираат како веројатности за припадност во класа\n",
        "b = Dense(3, activation='softmax')(x) \n",
        "\n",
        "# по дефинирање и поврзување на слоевите, се креира објект кој ќе го\n",
        "# претставува моделот при што се поставуваат параметрите inputs и outputs\n",
        "# кои претставуваат влезни и излезни слоеви на моделот, соодветно\n",
        "model2 = Model(inputs=a, outputs=b)"
      ],
      "execution_count": null,
      "outputs": []
    },
    {
      "cell_type": "markdown",
      "metadata": {
        "id": "rweoDdj89bwT"
      },
      "source": [
        "## Тренирање"
      ]
    },
    {
      "cell_type": "code",
      "metadata": {
        "id": "_90hUq-k9bEl"
      },
      "source": [
        "# пред да се тренира, потребно е моделот да се компајлира\n",
        "# со поставување на аргументот loss дефинираме категориска крос-ентропија\n",
        "# како функција на загуба\n",
        "# со поставување на аргументот optimizer дефинираме Adam оптимизатор\n",
        "# со поставување на аргументот metrics дефинираме точност како метрика за \n",
        "# следење на перформансите на моделот при тренирање\n",
        "model1.compile(loss='categorical_crossentropy', optimizer='adam', metrics=['accuracy'])"
      ],
      "execution_count": null,
      "outputs": []
    },
    {
      "cell_type": "code",
      "metadata": {
        "id": "Egn0ULCdrLJL",
        "colab": {
          "base_uri": "https://localhost:8080/"
        },
        "outputId": "1465d1e7-2327-4921-a515-e27fee1d94bf"
      },
      "source": [
        "# при тренирање на моделот покрај влезните и излезните податоци, потребно е \n",
        "# да се постават вредности за аргументите batch_size што претставува големина\n",
        "# на серија, epochs што претставува број на епохи и опционално verbose со што \n",
        "# се дефинира интензитет на информации за процесот на тренирање (0 - никакви\n",
        "# информации, 1 - информации за секој чекор, \n",
        "# 2 - сумирани информации по секоја епоха)\n",
        "model1.fit(train_x, train_y, batch_size=32, epochs=10, verbose=2)"
      ],
      "execution_count": null,
      "outputs": [
        {
          "output_type": "stream",
          "name": "stdout",
          "text": [
            "Epoch 1/10\n",
            "4/4 - 1s - loss: 1.0273 - accuracy: 0.4750\n",
            "Epoch 2/10\n",
            "4/4 - 0s - loss: 0.8276 - accuracy: 0.8167\n",
            "Epoch 3/10\n",
            "4/4 - 0s - loss: 0.6549 - accuracy: 0.8333\n",
            "Epoch 4/10\n",
            "4/4 - 0s - loss: 0.5311 - accuracy: 0.8333\n",
            "Epoch 5/10\n",
            "4/4 - 0s - loss: 0.4319 - accuracy: 0.8333\n",
            "Epoch 6/10\n",
            "4/4 - 0s - loss: 0.3720 - accuracy: 0.8333\n",
            "Epoch 7/10\n",
            "4/4 - 0s - loss: 0.3302 - accuracy: 0.8333\n",
            "Epoch 8/10\n",
            "4/4 - 0s - loss: 0.3001 - accuracy: 0.8833\n",
            "Epoch 9/10\n",
            "4/4 - 0s - loss: 0.2656 - accuracy: 0.9083\n",
            "Epoch 10/10\n",
            "4/4 - 0s - loss: 0.2360 - accuracy: 0.9000\n"
          ]
        },
        {
          "output_type": "execute_result",
          "data": {
            "text/plain": [
              "<keras.callbacks.History at 0x7f001f44c750>"
            ]
          },
          "metadata": {},
          "execution_count": 6
        }
      ]
    },
    {
      "cell_type": "markdown",
      "metadata": {
        "id": "kYxD94q8rWKW"
      },
      "source": [
        "## Евалуација"
      ]
    },
    {
      "cell_type": "code",
      "metadata": {
        "id": "_9DcG-ckrYhS",
        "colab": {
          "base_uri": "https://localhost:8080/"
        },
        "outputId": "d00f2d09-7c6b-41ce-a5d4-6444db654c60"
      },
      "source": [
        "# евалуација на моделот со што се добиваат вредности за\n",
        "# функцијата на загуба и точноста\n",
        "model1.evaluate(test_x, test_y)"
      ],
      "execution_count": null,
      "outputs": [
        {
          "output_type": "stream",
          "name": "stdout",
          "text": [
            "1/1 [==============================] - 0s 172ms/step - loss: 0.5985 - accuracy: 0.7000\n"
          ]
        },
        {
          "output_type": "execute_result",
          "data": {
            "text/plain": [
              "[0.5985440015792847, 0.699999988079071]"
            ]
          },
          "metadata": {},
          "execution_count": 7
        }
      ]
    },
    {
      "cell_type": "markdown",
      "metadata": {
        "id": "V3e_Lc4xQrTZ"
      },
      "source": [
        "## Тренирање на повеќе GPU (single host)"
      ]
    },
    {
      "cell_type": "code",
      "metadata": {
        "colab": {
          "base_uri": "https://localhost:8080/"
        },
        "id": "HsuIrJ7OQueH",
        "outputId": "e9630904-2109-467e-ea36-5ea9d8c1f64a"
      },
      "source": [
        "# за тренирање на повеќе графички картички на еден уред треба да се инстанцира\n",
        "# објект со соодветната стратегија - MirroredStrategy \n",
        "strategy = MirroredStrategy()\n",
        "\n",
        "# потоа во scope на дефинираната стратегија се креира и компајлира моделот\n",
        "# на овој начин се прави копија на моделот на сите графички картички така што\n",
        "# секоја копија ќе користи различен дел од податоците\n",
        "with strategy.scope():\n",
        "    model3 = Sequential()\n",
        "    model3.add(Dense(64, activation='relu', name='l1', input_shape=(4,)))\n",
        "    model3.add(Dense(128, activation='relu', name='l2')) \n",
        "    model3.add(Dense(512, activation='relu')) \n",
        "    model3.add(Dense(3, activation='softmax'))\n",
        "    model3.compile(loss='categorical_crossentropy', optimizer='adam', metrics=['accuracy'])\n",
        "\n",
        "# начинот на тренирање и евалуација е идентичен\n",
        "model3.fit(train_x, train_y, batch_size=32, epochs=50, verbose=2)\n",
        "model3.evaluate(test_x, test_y)"
      ],
      "execution_count": null,
      "outputs": [
        {
          "output_type": "stream",
          "name": "stdout",
          "text": [
            "WARNING:tensorflow:There are non-GPU devices in `tf.distribute.Strategy`, not using nccl allreduce.\n",
            "INFO:tensorflow:Using MirroredStrategy with devices ('/job:localhost/replica:0/task:0/device:CPU:0',)\n",
            "Epoch 1/50\n",
            "4/4 - 2s - loss: 1.1426 - accuracy: 0.3000\n",
            "Epoch 2/50\n",
            "4/4 - 0s - loss: 0.9239 - accuracy: 0.7000\n",
            "Epoch 3/50\n",
            "4/4 - 0s - loss: 0.7806 - accuracy: 0.8333\n",
            "Epoch 4/50\n",
            "4/4 - 0s - loss: 0.6266 - accuracy: 0.8333\n",
            "Epoch 5/50\n",
            "4/4 - 0s - loss: 0.5209 - accuracy: 0.8333\n",
            "Epoch 6/50\n",
            "4/4 - 0s - loss: 0.4275 - accuracy: 0.8333\n",
            "Epoch 7/50\n",
            "4/4 - 0s - loss: 0.3551 - accuracy: 0.8333\n",
            "Epoch 8/50\n",
            "4/4 - 0s - loss: 0.3105 - accuracy: 0.8917\n",
            "Epoch 9/50\n",
            "4/4 - 0s - loss: 0.2655 - accuracy: 0.9500\n",
            "Epoch 10/50\n",
            "4/4 - 0s - loss: 0.2472 - accuracy: 0.8500\n",
            "Epoch 11/50\n",
            "4/4 - 0s - loss: 0.2058 - accuracy: 0.9500\n",
            "Epoch 12/50\n",
            "4/4 - 0s - loss: 0.1816 - accuracy: 0.9750\n",
            "Epoch 13/50\n",
            "4/4 - 0s - loss: 0.1628 - accuracy: 0.9750\n",
            "Epoch 14/50\n",
            "4/4 - 0s - loss: 0.1376 - accuracy: 0.9667\n",
            "Epoch 15/50\n",
            "4/4 - 0s - loss: 0.1081 - accuracy: 0.9917\n",
            "Epoch 16/50\n",
            "4/4 - 0s - loss: 0.1169 - accuracy: 0.9750\n",
            "Epoch 17/50\n",
            "4/4 - 0s - loss: 0.1203 - accuracy: 0.9583\n",
            "Epoch 18/50\n",
            "4/4 - 0s - loss: 0.1034 - accuracy: 0.9667\n",
            "Epoch 19/50\n",
            "4/4 - 0s - loss: 0.0715 - accuracy: 0.9833\n",
            "Epoch 20/50\n",
            "4/4 - 0s - loss: 0.0762 - accuracy: 0.9833\n",
            "Epoch 21/50\n",
            "4/4 - 0s - loss: 0.0732 - accuracy: 0.9750\n",
            "Epoch 22/50\n",
            "4/4 - 0s - loss: 0.0616 - accuracy: 0.9833\n",
            "Epoch 23/50\n",
            "4/4 - 0s - loss: 0.0633 - accuracy: 0.9833\n",
            "Epoch 24/50\n",
            "4/4 - 0s - loss: 0.0575 - accuracy: 0.9833\n",
            "Epoch 25/50\n",
            "4/4 - 0s - loss: 0.0536 - accuracy: 0.9833\n",
            "Epoch 26/50\n",
            "4/4 - 0s - loss: 0.0464 - accuracy: 0.9833\n",
            "Epoch 27/50\n",
            "4/4 - 0s - loss: 0.0514 - accuracy: 0.9917\n",
            "Epoch 28/50\n",
            "4/4 - 0s - loss: 0.0488 - accuracy: 0.9833\n",
            "Epoch 29/50\n",
            "4/4 - 0s - loss: 0.0428 - accuracy: 0.9917\n",
            "Epoch 30/50\n",
            "4/4 - 0s - loss: 0.0436 - accuracy: 0.9917\n",
            "Epoch 31/50\n",
            "4/4 - 0s - loss: 0.0523 - accuracy: 0.9750\n",
            "Epoch 32/50\n",
            "4/4 - 0s - loss: 0.0420 - accuracy: 0.9833\n",
            "Epoch 33/50\n",
            "4/4 - 0s - loss: 0.0433 - accuracy: 0.9917\n",
            "Epoch 34/50\n",
            "4/4 - 0s - loss: 0.0513 - accuracy: 0.9750\n",
            "Epoch 35/50\n",
            "4/4 - 0s - loss: 0.0385 - accuracy: 0.9917\n",
            "Epoch 36/50\n",
            "4/4 - 0s - loss: 0.0598 - accuracy: 0.9750\n",
            "Epoch 37/50\n",
            "4/4 - 0s - loss: 0.0733 - accuracy: 0.9750\n",
            "Epoch 38/50\n",
            "4/4 - 0s - loss: 0.0385 - accuracy: 0.9833\n",
            "Epoch 39/50\n",
            "4/4 - 0s - loss: 0.0611 - accuracy: 0.9833\n",
            "Epoch 40/50\n",
            "4/4 - 0s - loss: 0.0592 - accuracy: 0.9833\n",
            "Epoch 41/50\n",
            "4/4 - 0s - loss: 0.0323 - accuracy: 0.9833\n",
            "Epoch 42/50\n",
            "4/4 - 0s - loss: 0.0666 - accuracy: 0.9833\n",
            "Epoch 43/50\n",
            "4/4 - 0s - loss: 0.0601 - accuracy: 0.9667\n",
            "Epoch 44/50\n",
            "4/4 - 0s - loss: 0.0371 - accuracy: 0.9833\n",
            "Epoch 45/50\n",
            "4/4 - 0s - loss: 0.0562 - accuracy: 0.9833\n",
            "Epoch 46/50\n",
            "4/4 - 0s - loss: 0.0441 - accuracy: 0.9917\n",
            "Epoch 47/50\n",
            "4/4 - 0s - loss: 0.0492 - accuracy: 0.9833\n",
            "Epoch 48/50\n",
            "4/4 - 0s - loss: 0.0486 - accuracy: 0.9833\n",
            "Epoch 49/50\n",
            "4/4 - 0s - loss: 0.0310 - accuracy: 0.9917\n",
            "Epoch 50/50\n",
            "4/4 - 0s - loss: 0.0443 - accuracy: 0.9833\n",
            "1/1 [==============================] - 1s 1s/step - loss: 0.5607 - accuracy: 0.7333\n"
          ]
        },
        {
          "output_type": "execute_result",
          "data": {
            "text/plain": [
              "[0.5607110857963562, 0.7333333492279053]"
            ]
          },
          "metadata": {},
          "execution_count": 8
        }
      ]
    },
    {
      "cell_type": "markdown",
      "metadata": {
        "id": "pTOMFfcZSCNB"
      },
      "source": [
        "## Тренирање на повеќе GPU (multiple workers)"
      ]
    },
    {
      "cell_type": "code",
      "metadata": {
        "colab": {
          "base_uri": "https://localhost:8080/"
        },
        "id": "Mun_jcVmSCDc",
        "outputId": "56f63bd8-f29a-47c5-a020-410888df2b04"
      },
      "source": [
        "# за тренирање на повеќе графички картички на повеќе уреди треба да се\n",
        "# инстанцира објект со соодветната стратегија - MultiWorkerMirroredStrategy \n",
        "strategy = MultiWorkerMirroredStrategy()\n",
        "\n",
        "# потоа во scope на дефинираната стратегија се креира и компајлира моделот\n",
        "# на овој начин се прави копија на моделот на сите графички картички на сите\n",
        "# уреди така што секоја копија ќе користи различен дел од податоците\n",
        "with strategy.scope():\n",
        "    model4 = Sequential()\n",
        "    model4.add(Dense(64, activation='relu', name='l1', input_shape=(4,)))\n",
        "    model4.add(Dense(128, activation='relu', name='l2')) \n",
        "    model4.add(Dense(512, activation='relu')) \n",
        "    model4.add(Dense(3, activation='softmax'))\n",
        "    model4.compile(loss='categorical_crossentropy', optimizer='adam', metrics=['accuracy'])\n",
        "\n",
        "# начинот на тренирање и евалуација е идентичен\n",
        "model4.fit(train_x, train_y, batch_size=32, epochs=50, verbose=2)\n",
        "model4.evaluate(test_x, test_y)"
      ],
      "execution_count": null,
      "outputs": [
        {
          "output_type": "stream",
          "name": "stdout",
          "text": [
            "WARNING:tensorflow:Collective ops is not configured at program startup. Some performance features may not be enabled.\n",
            "INFO:tensorflow:Single-worker MultiWorkerMirroredStrategy with local_devices = ('/device:CPU:0',), communication = CommunicationImplementation.AUTO\n",
            "Epoch 1/50\n",
            "4/4 - 3s - loss: 0.8882 - accuracy: 0.7000\n",
            "Epoch 2/50\n",
            "4/4 - 0s - loss: 0.6851 - accuracy: 0.8333\n",
            "Epoch 3/50\n",
            "4/4 - 0s - loss: 0.5085 - accuracy: 0.8333\n",
            "Epoch 4/50\n",
            "4/4 - 0s - loss: 0.4029 - accuracy: 0.8500\n",
            "Epoch 5/50\n",
            "4/4 - 0s - loss: 0.3253 - accuracy: 0.8417\n",
            "Epoch 6/50\n",
            "4/4 - 0s - loss: 0.2727 - accuracy: 0.8750\n",
            "Epoch 7/50\n",
            "4/4 - 0s - loss: 0.2383 - accuracy: 0.9833\n",
            "Epoch 8/50\n",
            "4/4 - 0s - loss: 0.1939 - accuracy: 0.9500\n",
            "Epoch 9/50\n",
            "4/4 - 0s - loss: 0.1753 - accuracy: 0.9500\n",
            "Epoch 10/50\n",
            "4/4 - 0s - loss: 0.1345 - accuracy: 0.9833\n",
            "Epoch 11/50\n",
            "4/4 - 0s - loss: 0.1232 - accuracy: 0.9583\n",
            "Epoch 12/50\n",
            "4/4 - 0s - loss: 0.1046 - accuracy: 0.9750\n",
            "Epoch 13/50\n",
            "4/4 - 0s - loss: 0.0826 - accuracy: 0.9833\n",
            "Epoch 14/50\n",
            "4/4 - 0s - loss: 0.0767 - accuracy: 0.9833\n",
            "Epoch 15/50\n",
            "4/4 - 0s - loss: 0.0731 - accuracy: 0.9833\n",
            "Epoch 16/50\n",
            "4/4 - 0s - loss: 0.0611 - accuracy: 0.9833\n",
            "Epoch 17/50\n",
            "4/4 - 0s - loss: 0.0637 - accuracy: 0.9833\n",
            "Epoch 18/50\n",
            "4/4 - 0s - loss: 0.0504 - accuracy: 0.9833\n",
            "Epoch 19/50\n",
            "4/4 - 0s - loss: 0.0556 - accuracy: 0.9917\n",
            "Epoch 20/50\n",
            "4/4 - 0s - loss: 0.0459 - accuracy: 0.9833\n",
            "Epoch 21/50\n",
            "4/4 - 0s - loss: 0.0539 - accuracy: 0.9833\n",
            "Epoch 22/50\n",
            "4/4 - 0s - loss: 0.0536 - accuracy: 0.9833\n",
            "Epoch 23/50\n",
            "4/4 - 0s - loss: 0.0451 - accuracy: 0.9833\n",
            "Epoch 24/50\n",
            "4/4 - 0s - loss: 0.0452 - accuracy: 0.9833\n",
            "Epoch 25/50\n",
            "4/4 - 0s - loss: 0.0550 - accuracy: 0.9833\n",
            "Epoch 26/50\n",
            "4/4 - 0s - loss: 0.0531 - accuracy: 0.9833\n",
            "Epoch 27/50\n",
            "4/4 - 0s - loss: 0.0382 - accuracy: 0.9833\n",
            "Epoch 28/50\n",
            "4/4 - 0s - loss: 0.0578 - accuracy: 0.9750\n",
            "Epoch 29/50\n",
            "4/4 - 0s - loss: 0.0427 - accuracy: 0.9833\n",
            "Epoch 30/50\n",
            "4/4 - 0s - loss: 0.0392 - accuracy: 0.9833\n",
            "Epoch 31/50\n",
            "4/4 - 0s - loss: 0.0418 - accuracy: 0.9833\n",
            "Epoch 32/50\n",
            "4/4 - 0s - loss: 0.0447 - accuracy: 0.9833\n",
            "Epoch 33/50\n",
            "4/4 - 0s - loss: 0.0487 - accuracy: 0.9833\n",
            "Epoch 34/50\n",
            "4/4 - 0s - loss: 0.0372 - accuracy: 0.9833\n",
            "Epoch 35/50\n",
            "4/4 - 0s - loss: 0.0610 - accuracy: 0.9833\n",
            "Epoch 36/50\n",
            "4/4 - 0s - loss: 0.0598 - accuracy: 0.9667\n",
            "Epoch 37/50\n",
            "4/4 - 0s - loss: 0.0309 - accuracy: 1.0000\n",
            "Epoch 38/50\n",
            "4/4 - 0s - loss: 0.0544 - accuracy: 0.9833\n",
            "Epoch 39/50\n",
            "4/4 - 0s - loss: 0.0346 - accuracy: 0.9833\n",
            "Epoch 40/50\n",
            "4/4 - 0s - loss: 0.0510 - accuracy: 0.9833\n",
            "Epoch 41/50\n",
            "4/4 - 0s - loss: 0.0416 - accuracy: 0.9833\n",
            "Epoch 42/50\n",
            "4/4 - 0s - loss: 0.0361 - accuracy: 0.9917\n",
            "Epoch 43/50\n",
            "4/4 - 0s - loss: 0.0601 - accuracy: 0.9833\n",
            "Epoch 44/50\n",
            "4/4 - 0s - loss: 0.0623 - accuracy: 0.9750\n",
            "Epoch 45/50\n",
            "4/4 - 0s - loss: 0.0448 - accuracy: 0.9833\n",
            "Epoch 46/50\n",
            "4/4 - 0s - loss: 0.0368 - accuracy: 0.9833\n",
            "Epoch 47/50\n",
            "4/4 - 0s - loss: 0.0372 - accuracy: 0.9833\n",
            "Epoch 48/50\n",
            "4/4 - 0s - loss: 0.0374 - accuracy: 0.9833\n",
            "Epoch 49/50\n",
            "4/4 - 0s - loss: 0.0341 - accuracy: 0.9917\n",
            "Epoch 50/50\n",
            "4/4 - 0s - loss: 0.0346 - accuracy: 0.9833\n",
            "1/1 [==============================] - 1s 1s/step - loss: 0.4476 - accuracy: 0.7333\n"
          ]
        },
        {
          "output_type": "execute_result",
          "data": {
            "text/plain": [
              "[0.44764280319213867, 0.7333333492279053]"
            ]
          },
          "metadata": {},
          "execution_count": 9
        }
      ]
    },
    {
      "cell_type": "markdown",
      "metadata": {
        "id": "UasNWKnbtxME"
      },
      "source": [
        "# Трансфер на знаење"
      ]
    },
    {
      "cell_type": "code",
      "metadata": {
        "id": "43BVA9Zftz7u"
      },
      "source": [
        "# зачувување на тежините на моделот како HDF5 датотека\n",
        "model1.save_weights('model1_weights.h5')"
      ],
      "execution_count": null,
      "outputs": []
    },
    {
      "cell_type": "code",
      "metadata": {
        "id": "-k5Ht8nnyrOG"
      },
      "source": [
        "# при трансфер на знаење се вчитуваат тежините од некој претходно \n",
        "# истрениран модел така што моделот чии тежини се иницијализираат \n",
        "# треба да е однапред креиран\n",
        "# со поставување на аргументот by_name на вредност True ќе се вчитаат\n",
        "# тежините на сите слоеви според името на слојот\n",
        "model2.load_weights('model1_weights.h5', by_name=True)"
      ],
      "execution_count": null,
      "outputs": []
    },
    {
      "cell_type": "code",
      "metadata": {
        "colab": {
          "base_uri": "https://localhost:8080/"
        },
        "id": "vTmCHcVgznVJ",
        "outputId": "e64ef6a2-7eb7-431a-f34a-8508becf7d10"
      },
      "source": [
        "# сумарни информации за моделот вклучувајќи информации за секој слој\n",
        "# (име, димензија, број на тежини кои се учат)\n",
        "# сите 42 435 тежини на моделот ќе се тренираат\n",
        "model2.summary()"
      ],
      "execution_count": null,
      "outputs": [
        {
          "output_type": "stream",
          "name": "stdout",
          "text": [
            "Model: \"model\"\n",
            "_________________________________________________________________\n",
            "Layer (type)                 Output Shape              Param #   \n",
            "=================================================================\n",
            "input_1 (InputLayer)         [(None, 4)]               0         \n",
            "_________________________________________________________________\n",
            "l1 (Dense)                   (None, 64)                320       \n",
            "_________________________________________________________________\n",
            "l2 (Dense)                   (None, 128)               8320      \n",
            "_________________________________________________________________\n",
            "dense_2 (Dense)              (None, 256)               33024     \n",
            "_________________________________________________________________\n",
            "dense_3 (Dense)              (None, 3)                 771       \n",
            "=================================================================\n",
            "Total params: 42,435\n",
            "Trainable params: 42,435\n",
            "Non-trainable params: 0\n",
            "_________________________________________________________________\n"
          ]
        }
      ]
    },
    {
      "cell_type": "code",
      "metadata": {
        "id": "2XPa-XYhzctQ"
      },
      "source": [
        "# со поставување на параметарот trainable на одреден слој\n",
        "# означуваме дека тежините на тој слој нема да се тренираат\n",
        "for layer in model2.layers[:2]:\n",
        "    layer.trainable = False"
      ],
      "execution_count": null,
      "outputs": []
    },
    {
      "cell_type": "code",
      "metadata": {
        "id": "XuWYeHnLzvWo",
        "colab": {
          "base_uri": "https://localhost:8080/"
        },
        "outputId": "16f2b0a3-7d06-4ff7-b34e-302d40eb3c8d"
      },
      "source": [
        "# сумарни информации за моделот вклучувајќи информации за секој слој\n",
        "# (име, димензија, број на тежини кои се учат)\n",
        "# ќе се тренираат 42 115 тежини од вкупно 42 435 тежини\n",
        "model2.summary()"
      ],
      "execution_count": null,
      "outputs": [
        {
          "output_type": "stream",
          "name": "stdout",
          "text": [
            "Model: \"model\"\n",
            "_________________________________________________________________\n",
            "Layer (type)                 Output Shape              Param #   \n",
            "=================================================================\n",
            "input_1 (InputLayer)         [(None, 4)]               0         \n",
            "_________________________________________________________________\n",
            "l1 (Dense)                   (None, 64)                320       \n",
            "_________________________________________________________________\n",
            "l2 (Dense)                   (None, 128)               8320      \n",
            "_________________________________________________________________\n",
            "dense_2 (Dense)              (None, 256)               33024     \n",
            "_________________________________________________________________\n",
            "dense_3 (Dense)              (None, 3)                 771       \n",
            "=================================================================\n",
            "Total params: 42,435\n",
            "Trainable params: 42,115\n",
            "Non-trainable params: 320\n",
            "_________________________________________________________________\n"
          ]
        }
      ]
    }
  ]
}